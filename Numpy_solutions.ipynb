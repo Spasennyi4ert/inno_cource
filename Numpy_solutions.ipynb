{
  "nbformat": 4,
  "nbformat_minor": 0,
  "metadata": {
    "colab": {
      "provenance": [],
      "authorship_tag": "ABX9TyNpl/o1hGElbogzZ27Jo3EU",
      "include_colab_link": true
    },
    "kernelspec": {
      "name": "python3",
      "display_name": "Python 3"
    },
    "language_info": {
      "name": "python"
    }
  },
  "cells": [
    {
      "cell_type": "markdown",
      "metadata": {
        "id": "view-in-github",
        "colab_type": "text"
      },
      "source": [
        "<a href=\"https://colab.research.google.com/github/Spasennyi4ert/inno_cource/blob/main/Numpy_solutions.ipynb\" target=\"_parent\"><img src=\"https://colab.research.google.com/assets/colab-badge.svg\" alt=\"Open In Colab\"/></a>"
      ]
    },
    {
      "cell_type": "code",
      "execution_count": 1,
      "metadata": {
        "colab": {
          "base_uri": "https://localhost:8080/"
        },
        "id": "O1OS-O2YhA6x",
        "outputId": "0364d660-4c4d-48db-fafc-53fd938409d3"
      },
      "outputs": [
        {
          "output_type": "stream",
          "name": "stdout",
          "text": [
            "hi\n"
          ]
        }
      ],
      "source": [
        "print('hi')"
      ]
    },
    {
      "cell_type": "markdown",
      "source": [
        "a Импорт библиотеки NumPy"
      ],
      "metadata": {
        "id": "CPMtghaUHBR-"
      }
    },
    {
      "cell_type": "code",
      "source": [
        "import numpy as np"
      ],
      "metadata": {
        "id": "-167Jw9ZhYnX"
      },
      "execution_count": 3,
      "outputs": []
    },
    {
      "cell_type": "markdown",
      "source": [
        "b Создать массив из 10 нулей"
      ],
      "metadata": {
        "id": "g-b7Zuu4HWOO"
      }
    },
    {
      "cell_type": "code",
      "source": [
        "arr = np.zeros(10)\n",
        "arr"
      ],
      "metadata": {
        "colab": {
          "base_uri": "https://localhost:8080/"
        },
        "id": "KC9dGm8bhmQL",
        "outputId": "fe0206f9-66c2-4059-db09-cc607696f9cb"
      },
      "execution_count": 4,
      "outputs": [
        {
          "output_type": "execute_result",
          "data": {
            "text/plain": [
              "array([0., 0., 0., 0., 0., 0., 0., 0., 0., 0.])"
            ]
          },
          "metadata": {},
          "execution_count": 4
        }
      ]
    },
    {
      "cell_type": "markdown",
      "source": [
        "c Создать массив из 10 единиц"
      ],
      "metadata": {
        "id": "ji9yssc1Hrwa"
      }
    },
    {
      "cell_type": "markdown",
      "source": [],
      "metadata": {
        "id": "dYXe5xvMHlUj"
      }
    },
    {
      "cell_type": "code",
      "source": [
        "on = np.ones(10)\n",
        "on"
      ],
      "metadata": {
        "colab": {
          "base_uri": "https://localhost:8080/"
        },
        "id": "fkT6W9OVh9hU",
        "outputId": "cf8bcbb7-b84a-43f0-f5d0-c3604acbfa7f"
      },
      "execution_count": 5,
      "outputs": [
        {
          "output_type": "execute_result",
          "data": {
            "text/plain": [
              "array([1., 1., 1., 1., 1., 1., 1., 1., 1., 1.])"
            ]
          },
          "metadata": {},
          "execution_count": 5
        }
      ]
    },
    {
      "cell_type": "markdown",
      "source": [
        "d Создать массив из 10 пятерок"
      ],
      "metadata": {
        "id": "F1aEpgJiIAl8"
      }
    },
    {
      "cell_type": "code",
      "source": [
        "on*5"
      ],
      "metadata": {
        "colab": {
          "base_uri": "https://localhost:8080/"
        },
        "id": "gJY0bXy4ifBi",
        "outputId": "1711dcea-2b3c-4aed-aeec-e99c8c24dccf"
      },
      "execution_count": 23,
      "outputs": [
        {
          "output_type": "execute_result",
          "data": {
            "text/plain": [
              "array([5., 5., 5., 5., 5., 5., 5., 5., 5., 5.])"
            ]
          },
          "metadata": {},
          "execution_count": 23
        }
      ]
    },
    {
      "cell_type": "markdown",
      "source": [
        "e Создать массив из целых чисел от 10 до 50"
      ],
      "metadata": {
        "id": "-mQ6s0mEIN6C"
      }
    },
    {
      "cell_type": "code",
      "source": [
        "np.arange(10, 51, 1)"
      ],
      "metadata": {
        "colab": {
          "base_uri": "https://localhost:8080/"
        },
        "id": "u1vNVI6tmJyc",
        "outputId": "359ae084-ee2c-4567-e867-a5e0879a964c"
      },
      "execution_count": 22,
      "outputs": [
        {
          "output_type": "execute_result",
          "data": {
            "text/plain": [
              "array([10, 11, 12, 13, 14, 15, 16, 17, 18, 19, 20, 21, 22, 23, 24, 25, 26,\n",
              "       27, 28, 29, 30, 31, 32, 33, 34, 35, 36, 37, 38, 39, 40, 41, 42, 43,\n",
              "       44, 45, 46, 47, 48, 49, 50])"
            ]
          },
          "metadata": {},
          "execution_count": 22
        }
      ]
    },
    {
      "cell_type": "markdown",
      "source": [
        "f Создать массив из четных чисел от 10 до 50"
      ],
      "metadata": {
        "id": "JI1fuufAIc4q"
      }
    },
    {
      "cell_type": "code",
      "source": [
        "np.arange(10, 51, 2)"
      ],
      "metadata": {
        "colab": {
          "base_uri": "https://localhost:8080/"
        },
        "id": "82mQzFwLmnTE",
        "outputId": "c6391d0c-16ac-43e6-86f8-4cbc2687de8d"
      },
      "execution_count": 21,
      "outputs": [
        {
          "output_type": "execute_result",
          "data": {
            "text/plain": [
              "array([10, 12, 14, 16, 18, 20, 22, 24, 26, 28, 30, 32, 34, 36, 38, 40, 42,\n",
              "       44, 46, 48, 50])"
            ]
          },
          "metadata": {},
          "execution_count": 21
        }
      ]
    },
    {
      "cell_type": "markdown",
      "source": [
        "g Создать матрицу 3х3 с цислами от 0 до 8"
      ],
      "metadata": {
        "id": "cfddho20ItVF"
      }
    },
    {
      "cell_type": "code",
      "source": [
        "np.arange(0, 9).reshape(3, 3)"
      ],
      "metadata": {
        "colab": {
          "base_uri": "https://localhost:8080/"
        },
        "id": "WgxvKamvnI6S",
        "outputId": "f086c18b-d41a-431d-f37b-d4ad9717d04d"
      },
      "execution_count": 20,
      "outputs": [
        {
          "output_type": "execute_result",
          "data": {
            "text/plain": [
              "array([[0, 1, 2],\n",
              "       [3, 4, 5],\n",
              "       [6, 7, 8]])"
            ]
          },
          "metadata": {},
          "execution_count": 20
        }
      ]
    },
    {
      "cell_type": "markdown",
      "source": [
        "h Создать единичную матрицу 3х3"
      ],
      "metadata": {
        "id": "HfwPV0k1JVnW"
      }
    },
    {
      "cell_type": "code",
      "source": [
        "np.eye(3)"
      ],
      "metadata": {
        "colab": {
          "base_uri": "https://localhost:8080/"
        },
        "id": "13mSyR48oBYL",
        "outputId": "8930ca56-4f01-4811-ac7a-e9ed167d7eb2"
      },
      "execution_count": 19,
      "outputs": [
        {
          "output_type": "execute_result",
          "data": {
            "text/plain": [
              "array([[1., 0., 0.],\n",
              "       [0., 1., 0.],\n",
              "       [0., 0., 1.]])"
            ]
          },
          "metadata": {},
          "execution_count": 19
        }
      ]
    },
    {
      "cell_type": "markdown",
      "source": [
        "i Использовать NumPy для генерации случайного числа от 0 до 1"
      ],
      "metadata": {
        "id": "idCIdJTTLM_l"
      }
    },
    {
      "cell_type": "code",
      "source": [
        "np.random.rand(1)"
      ],
      "metadata": {
        "colab": {
          "base_uri": "https://localhost:8080/"
        },
        "id": "vypYqrXkLjad",
        "outputId": "607bed79-81e0-418c-cf5c-4d7a390a8c61"
      },
      "execution_count": 18,
      "outputs": [
        {
          "output_type": "execute_result",
          "data": {
            "text/plain": [
              "array([0.14576613])"
            ]
          },
          "metadata": {},
          "execution_count": 18
        }
      ]
    },
    {
      "cell_type": "markdown",
      "source": [
        "j Использовать NumPy для генерации массива из 25 случайных чисел"
      ],
      "metadata": {
        "id": "jCbEkxaeL7ZW"
      }
    },
    {
      "cell_type": "code",
      "source": [
        "np.random.rand(25)"
      ],
      "metadata": {
        "colab": {
          "base_uri": "https://localhost:8080/"
        },
        "id": "yewQmvldMSgn",
        "outputId": "ab7c6f3c-87d0-4f56-aad3-a5095233f56c"
      },
      "execution_count": 17,
      "outputs": [
        {
          "output_type": "execute_result",
          "data": {
            "text/plain": [
              "array([0.52635058, 0.15213858, 0.8935402 , 0.60190909, 0.70994571,\n",
              "       0.63820352, 0.44227006, 0.98950767, 0.54270174, 0.67339838,\n",
              "       0.39918672, 0.43042716, 0.20225618, 0.69356035, 0.55846435,\n",
              "       0.68211612, 0.41465333, 0.92576817, 0.1014501 , 0.09536132,\n",
              "       0.04728903, 0.68455441, 0.12532036, 0.59198686, 0.64599579])"
            ]
          },
          "metadata": {},
          "execution_count": 17
        }
      ]
    },
    {
      "cell_type": "markdown",
      "source": [
        "k Создайте следующую матрицу используя функции библиотеки NumPy"
      ],
      "metadata": {
        "id": "GoyemaIhMpJF"
      }
    },
    {
      "cell_type": "code",
      "source": [
        "np.arange(0, 1.01, 0.01)"
      ],
      "metadata": {
        "colab": {
          "base_uri": "https://localhost:8080/"
        },
        "id": "JYMt4CwQNRwT",
        "outputId": "0142cdb1-6344-477e-9a76-15b36deff2cf"
      },
      "execution_count": 16,
      "outputs": [
        {
          "output_type": "execute_result",
          "data": {
            "text/plain": [
              "array([0.  , 0.01, 0.02, 0.03, 0.04, 0.05, 0.06, 0.07, 0.08, 0.09, 0.1 ,\n",
              "       0.11, 0.12, 0.13, 0.14, 0.15, 0.16, 0.17, 0.18, 0.19, 0.2 , 0.21,\n",
              "       0.22, 0.23, 0.24, 0.25, 0.26, 0.27, 0.28, 0.29, 0.3 , 0.31, 0.32,\n",
              "       0.33, 0.34, 0.35, 0.36, 0.37, 0.38, 0.39, 0.4 , 0.41, 0.42, 0.43,\n",
              "       0.44, 0.45, 0.46, 0.47, 0.48, 0.49, 0.5 , 0.51, 0.52, 0.53, 0.54,\n",
              "       0.55, 0.56, 0.57, 0.58, 0.59, 0.6 , 0.61, 0.62, 0.63, 0.64, 0.65,\n",
              "       0.66, 0.67, 0.68, 0.69, 0.7 , 0.71, 0.72, 0.73, 0.74, 0.75, 0.76,\n",
              "       0.77, 0.78, 0.79, 0.8 , 0.81, 0.82, 0.83, 0.84, 0.85, 0.86, 0.87,\n",
              "       0.88, 0.89, 0.9 , 0.91, 0.92, 0.93, 0.94, 0.95, 0.96, 0.97, 0.98,\n",
              "       0.99, 1.  ])"
            ]
          },
          "metadata": {},
          "execution_count": 16
        }
      ]
    },
    {
      "cell_type": "markdown",
      "source": [
        "l Матрица из условия задачи"
      ],
      "metadata": {
        "id": "x3DYVYUjOEUP"
      }
    },
    {
      "cell_type": "code",
      "source": [
        "mat = np.arange(1, 26).reshape(5, 5)\n",
        "mat"
      ],
      "metadata": {
        "colab": {
          "base_uri": "https://localhost:8080/"
        },
        "id": "fTfXnzFtORAb",
        "outputId": "f3dac7f1-8c9c-42d6-d333-12261586069b"
      },
      "execution_count": 25,
      "outputs": [
        {
          "output_type": "execute_result",
          "data": {
            "text/plain": [
              "array([[ 1,  2,  3,  4,  5],\n",
              "       [ 6,  7,  8,  9, 10],\n",
              "       [11, 12, 13, 14, 15],\n",
              "       [16, 17, 18, 19, 20],\n",
              "       [21, 22, 23, 24, 25]])"
            ]
          },
          "metadata": {},
          "execution_count": 25
        }
      ]
    },
    {
      "cell_type": "markdown",
      "source": [
        "m Написать код, который вернет следующую матрицу из стартовой"
      ],
      "metadata": {
        "id": "Y5CjC7jOQ0EV"
      }
    },
    {
      "cell_type": "code",
      "source": [
        "mat[2:, 1:]"
      ],
      "metadata": {
        "colab": {
          "base_uri": "https://localhost:8080/"
        },
        "id": "oACiLKYMRLVf",
        "outputId": "1c17de96-890d-4e72-a79e-697d2c1db420"
      },
      "execution_count": 26,
      "outputs": [
        {
          "output_type": "execute_result",
          "data": {
            "text/plain": [
              "array([[12, 13, 14, 15],\n",
              "       [17, 18, 19, 20],\n",
              "       [22, 23, 24, 25]])"
            ]
          },
          "metadata": {},
          "execution_count": 26
        }
      ]
    },
    {
      "cell_type": "markdown",
      "source": [
        "n Написать код обращения к элементу, который вернет значение 20 из матрицы mat"
      ],
      "metadata": {
        "id": "deFcg4fPRujf"
      }
    },
    {
      "cell_type": "code",
      "source": [
        "print(mat[mat==20])"
      ],
      "metadata": {
        "colab": {
          "base_uri": "https://localhost:8080/"
        },
        "id": "vuU63vFZUPgo",
        "outputId": "44d45ea1-fbda-40dd-f3ac-89f33adf341b"
      },
      "execution_count": 33,
      "outputs": [
        {
          "output_type": "stream",
          "name": "stdout",
          "text": [
            "[20]\n"
          ]
        }
      ]
    },
    {
      "cell_type": "markdown",
      "source": [
        "o Написать код к матрице mat, который воспроизводит вывод"
      ],
      "metadata": {
        "id": "GhNm0gR5UrwY"
      }
    },
    {
      "cell_type": "code",
      "source": [
        "mat[0:3, 1].reshape(3, 1)"
      ],
      "metadata": {
        "colab": {
          "base_uri": "https://localhost:8080/"
        },
        "id": "mOIs48oQVT89",
        "outputId": "fc2d4161-f0b4-46e1-fbce-ee3bd2c65907"
      },
      "execution_count": 34,
      "outputs": [
        {
          "output_type": "execute_result",
          "data": {
            "text/plain": [
              "array([[ 2],\n",
              "       [ 7],\n",
              "       [12]])"
            ]
          },
          "metadata": {},
          "execution_count": 34
        }
      ]
    },
    {
      "cell_type": "markdown",
      "source": [
        "p Написать код к матрице mat, который воспроизводит вывод"
      ],
      "metadata": {
        "id": "y90NGQGrWC2p"
      }
    },
    {
      "cell_type": "code",
      "source": [
        "mat[4]"
      ],
      "metadata": {
        "colab": {
          "base_uri": "https://localhost:8080/"
        },
        "id": "wJ9QuuKYWjfG",
        "outputId": "b5417dce-b407-49da-d09d-53f5530680c4"
      },
      "execution_count": 37,
      "outputs": [
        {
          "output_type": "execute_result",
          "data": {
            "text/plain": [
              "array([21, 22, 23, 24, 25])"
            ]
          },
          "metadata": {},
          "execution_count": 37
        }
      ]
    },
    {
      "cell_type": "markdown",
      "source": [
        "r Написать код к матрице mat, который воспроизводит вывод"
      ],
      "metadata": {
        "id": "Ljzobhx1XDOA"
      }
    },
    {
      "cell_type": "code",
      "source": [
        "mat[3:]"
      ],
      "metadata": {
        "colab": {
          "base_uri": "https://localhost:8080/"
        },
        "id": "-VZvHanwXV8O",
        "outputId": "b281eca0-a907-4336-87ed-871a16286d2e"
      },
      "execution_count": 38,
      "outputs": [
        {
          "output_type": "execute_result",
          "data": {
            "text/plain": [
              "array([[16, 17, 18, 19, 20],\n",
              "       [21, 22, 23, 24, 25]])"
            ]
          },
          "metadata": {},
          "execution_count": 38
        }
      ]
    },
    {
      "cell_type": "markdown",
      "source": [
        "q Получить сумму всех значений в матрице mat"
      ],
      "metadata": {
        "id": "Hw1JkyycXi-P"
      }
    },
    {
      "cell_type": "code",
      "source": [
        "mat.sum()"
      ],
      "metadata": {
        "colab": {
          "base_uri": "https://localhost:8080/"
        },
        "id": "SOIjOG-7Xt3u",
        "outputId": "d1245d2c-a566-4950-8aea-7e8222f2b514"
      },
      "execution_count": 39,
      "outputs": [
        {
          "output_type": "execute_result",
          "data": {
            "text/plain": [
              "325"
            ]
          },
          "metadata": {},
          "execution_count": 39
        }
      ]
    },
    {
      "cell_type": "markdown",
      "source": [
        "s Получить стандартное отклонение в матрице mat"
      ],
      "metadata": {
        "id": "xUdz_RmCX09v"
      }
    },
    {
      "cell_type": "code",
      "source": [
        "mat.std()"
      ],
      "metadata": {
        "colab": {
          "base_uri": "https://localhost:8080/"
        },
        "id": "W5U-zvUlYB9S",
        "outputId": "613b564d-8f12-47d2-dc7e-46880ea52958"
      },
      "execution_count": 40,
      "outputs": [
        {
          "output_type": "execute_result",
          "data": {
            "text/plain": [
              "7.211102550927978"
            ]
          },
          "metadata": {},
          "execution_count": 40
        }
      ]
    },
    {
      "cell_type": "markdown",
      "source": [
        "t Получить сумму значений в колонках матрицы mat"
      ],
      "metadata": {
        "id": "uCwpljsMYHbW"
      }
    },
    {
      "cell_type": "code",
      "source": [
        "mat.sum(axis=0)"
      ],
      "metadata": {
        "colab": {
          "base_uri": "https://localhost:8080/"
        },
        "id": "zJ0w70JPYTUA",
        "outputId": "95b41c10-0c69-4e2c-fd8d-db2a66302262"
      },
      "execution_count": 41,
      "outputs": [
        {
          "output_type": "execute_result",
          "data": {
            "text/plain": [
              "array([55, 60, 65, 70, 75])"
            ]
          },
          "metadata": {},
          "execution_count": 41
        }
      ]
    }
  ]
}